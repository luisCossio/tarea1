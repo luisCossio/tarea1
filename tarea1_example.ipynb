{
 "cells": [
  {
   "cell_type": "code",
   "execution_count": 22,
   "metadata": {},
   "outputs": [],
   "source": [
    "import numpy as np\n",
    "from sklearn.preprocessing import StandardScaler\n",
    "import matplotlib.pyplot as plt"
   ]
  },
  {
   "cell_type": "code",
   "execution_count": 78,
   "metadata": {},
   "outputs": [],
   "source": [
    "def sigmoid(z):\n",
    "\treturn 1/(1 + np.exp(-z))\n",
    "\n",
    "# Produce a neural network randomly initialized\n",
    "def initialize_parameters(n_x, n_h, n_y):\n",
    "\tW1 = np.random.randn(n_h, n_x)\n",
    "\tb1 = np.zeros((n_h, 1))\n",
    "\tW2 = np.random.randn(n_y, n_h)\n",
    "\tb2 = np.zeros((n_y, 1))\n",
    "\n",
    "\tparameters = {\n",
    "\t\"W1\": W1,\n",
    "\t\"b1\" : b1,\n",
    "\t\"W2\": W2,\n",
    "\t\"b2\" : b2}\n",
    "\n",
    "\treturn parameters\n",
    "\n",
    "# Evaluate the neural network\n",
    "def forward_prop(X, parameters):\n",
    "  W1 = parameters[\"W1\"]\n",
    "  b1 = parameters[\"b1\"]\n",
    "  W2 = parameters[\"W2\"]\n",
    "  b2 = parameters[\"b2\"]\n",
    "\n",
    "  # Z value for Layer 1\n",
    "  Z1 = np.dot(W1, X) + b1\n",
    "  # Activation value for Layer 1\n",
    "  A1 = np.tanh(Z1)\n",
    "  # Z value for Layer 2\n",
    "  Z2 = np.dot(W2, A1) + b2\n",
    "  # Activation value for Layer 2\n",
    "  A2 = sigmoid(Z2)\n",
    "\n",
    "  cache = {\n",
    "    \"A1\": A1,\n",
    "    \"A2\": A2\n",
    "  }\n",
    "  return A2, cache\n",
    "\n",
    "# Evaluate the error (i.e., cost) between the prediction made in A2 and the provided labels Y \n",
    "# We use the Mean Square Error cost function\n",
    "def calculate_cost(A2, Y):\n",
    "  # m is the number of examples\n",
    "  cost = np.sum((0.5 * (A2 - Y) ** 2).mean(axis=1))/Y.shape[1]\n",
    "  return cost\n",
    "\n",
    "# Apply the backpropagation\n",
    "def backward_prop(X, Y, cache, parameters):\n",
    "  A1 = cache[\"A1\"]\n",
    "  A2 = cache[\"A2\"]\n",
    "\n",
    "  W2 = parameters[\"W2\"]\n",
    "\n",
    "  # Compute the difference between the predicted value and the real values\n",
    "  dZ2 = A2 - Y\n",
    "  dW2 = np.dot(dZ2, A1.T)/Y.shape[1]\n",
    "  db2 = np.sum(dZ2, axis=1, keepdims=True)/Y.shape[1]\n",
    "  # Because d/dx tanh(x) = 1 - tanh^2(x)\n",
    "  dZ1 = np.multiply(np.dot(W2.T, dZ2), 1-np.power(A1, 2))\n",
    "  dW1 = np.dot(dZ1, X.T)/Y.shape[1]\n",
    "  db1 = np.sum(dZ1, axis=1, keepdims=True)/Y.shape[1]\n",
    "\n",
    "  grads = {\n",
    "    \"dW1\": dW1,\n",
    "    \"db1\": db1,\n",
    "    \"dW2\": dW2,\n",
    "    \"db2\": db2\n",
    "  }\n",
    "\n",
    "  return grads\n",
    "\n",
    "# Third phase of the learning algorithm: update the weights and bias\n",
    "def update_parameters(parameters, grads, learning_rate):\n",
    "  W1 = parameters[\"W1\"]\n",
    "  b1 = parameters[\"b1\"]\n",
    "  W2 = parameters[\"W2\"]\n",
    "  b2 = parameters[\"b2\"]\n",
    "\n",
    "  dW1 = grads[\"dW1\"]\n",
    "  db1 = grads[\"db1\"]\n",
    "  dW2 = grads[\"dW2\"]\n",
    "  db2 = grads[\"db2\"]\n",
    "\n",
    "  W1 = W1 - learning_rate*dW1\n",
    "  b1 = b1 - learning_rate*db1\n",
    "  W2 = W2 - learning_rate*dW2\n",
    "  b2 = b2 - learning_rate*db2\n",
    "  \n",
    "  new_parameters = {\n",
    "    \"W1\": W1,\n",
    "    \"W2\": W2,\n",
    "    \"b1\" : b1,\n",
    "    \"b2\" : b2\n",
    "  }\n",
    "\n",
    "  return new_parameters\n",
    "\n",
    "# model is the main function to train a model\n",
    "# X: is the set of training inputs\n",
    "# Y: is the set of training outputs\n",
    "# n_x: number of inputs (this value impacts how X is shaped)\n",
    "# n_h: number of neurons in the hidden layer\n",
    "# n_y: number of neurons in the output layer (this value impacts how Y is shaped)\n",
    "def model(X, Y,X_test,Y_test, n_x, n_h, n_y, num_of_iters, learning_rate):\n",
    "    parameters = initialize_parameters(n_x, n_h, n_y)\n",
    "    cost_train = []\n",
    "    cost_val = []\n",
    "    for i in range(0, num_of_iters+1):\n",
    "        a2, cache = forward_prop(X, parameters)\n",
    "        cost = calculate_cost(a2, Y)\n",
    "        grads = backward_prop(X, Y, cache, parameters)\n",
    "        parameters = update_parameters(parameters, grads, learning_rate)\n",
    "        if(i%100 == 0):\n",
    "            cost_train.append(cost)\n",
    "            a, cache = forward_prop(X_test, parameters)\n",
    "            cost1 = calculate_cost(a, Y_test)\n",
    "            cost_val.append(cost1)\n",
    "#             print('Cost after iteration# {:d}: {:f}'.format(i, cost))\n",
    "\n",
    "    return parameters, cost_train, cost_val \n",
    "\n",
    "# # Make a prediction\n",
    "# # X: represents the inputs\n",
    "# # parameters: represents a model\n",
    "# # the result is the prediction\n",
    "# def predict(X, parameters):\n",
    "#   a2, cache = forward_prop(X, parameters)\n",
    "#   yhat = a2\n",
    "# #   print(yhat.shape)  \n",
    "#   yhat = np.squeeze(yhat)\n",
    "\n",
    "#   if(yhat >= 0.5):\n",
    "#     y_predict = 1\n",
    "#   else:\n",
    "#     y_predict = 0\n",
    "\n",
    "#   return y_predict\n",
    "\n",
    "# # Set the seed to make result reproducible\n",
    "# np.random.seed(42)\n",
    "\n",
    "# # The 4 training examples by columns\n",
    "# X = np.array([[0, 0, 1, 1],\n",
    "#               [0, 1, 0, 1]])\n",
    "\n",
    "# # The outputs of the XOR for every example in X\n",
    "# Y = np.array([[0, 1, 1, 0]])\n",
    "\n",
    "# # No. of training examples\n",
    "# m = X.shape[1]\n",
    "\n",
    "# # Set the hyperparameters\n",
    "# n_x = 2     #No. of neurons in first layer\n",
    "# n_h = 4     #No. of neurons in hidden layer\n",
    "# n_y = 1     #No. of neurons in output layer\n",
    "\n",
    "# #The number of times the model has to learn the dataset\n",
    "# number_of_iterations = 1000\n",
    "# learning_rate = 0.01\n",
    "\n",
    "# # define a model \n",
    "# trained_parameters = model(X, Y, n_x, n_h, n_y, number_of_iterations, learning_rate)\n",
    "\n",
    "# # Test 2X1 vector to calculate the XOR of its elements. \n",
    "# # You can try any of those: (0, 0), (0, 1), (1, 0), (1, 1)\n",
    "# X_test = np.array([[0], [1]])\n",
    "# y_predict = predict(X_test, trained_parameters)\n",
    "\n",
    "# # Print the result\n",
    "# print('Neural Network prediction for example ({:d}, {:d}) is {:d}'.format(\n",
    "#     X_test[0][0], X_test[1][0], y_predict))\n"
   ]
  },
  {
   "cell_type": "markdown",
   "metadata": {},
   "source": [
    "## Load Data"
   ]
  },
  {
   "cell_type": "code",
   "execution_count": 41,
   "metadata": {},
   "outputs": [
    {
     "name": "stdout",
     "output_type": "stream",
     "text": [
      "Data shape:  (1797, 64)\n",
      "label shape:  (1797,)\n"
     ]
    }
   ],
   "source": [
    "from sklearn.datasets import load_digits\n",
    "dataset = load_digits()\n",
    "X = dataset.data\n",
    "# normalizer = normalize_dataset(dataset.data)\n",
    "y = dataset.target\n",
    "print(\"Data shape: \",X.shape)\n",
    "print(\"label shape: \",y.shape)"
   ]
  },
  {
   "cell_type": "markdown",
   "metadata": {},
   "source": [
    "## Plot Data"
   ]
  },
  {
   "cell_type": "code",
   "execution_count": 21,
   "metadata": {},
   "outputs": [
    {
     "name": "stdout",
     "output_type": "stream",
     "text": [
      "label:  7.0\n"
     ]
    },
    {
     "data": {
      "image/png": "[encoded data removed]",
      "text/plain": [
       "<Figure size 432x288 with 1 Axes>"
      ]
     },
     "metadata": {
      "needs_background": "light"
     },
     "output_type": "display_data"
    }
   ],
   "source": [
    "\n",
    "index = 2\n",
    "plt.imshow(X[index,:].reshape([8,8]))\n",
    "print(\"label: \",y[index])"
   ]
  },
  {
   "cell_type": "markdown",
   "metadata": {},
   "source": [
    "## K-Fold separation\n",
    "Lo separaremos una vez y luego haremos el entrenamiento. En cada entrenamiento del fold calcularemos la loss y accuracy"
   ]
  },
  {
   "cell_type": "code",
   "execution_count": 42,
   "metadata": {},
   "outputs": [
    {
     "name": "stdout",
     "output_type": "stream",
     "text": [
      "Data shape:  (1797, 64)\n",
      "label shape:  (1797,)\n"
     ]
    }
   ],
   "source": [
    "def concatenate_X_y(X,Y):\n",
    "    \"\"\"Method to concatenate labels and data, so it can be efectively shuffle \n",
    "    and then the corresponding data and labels are still in place.\"\"\"\n",
    "    return np.concatenate((X, Y.reshape([-1,1])), axis=1)\n",
    "dataset_concatenated = concatenate_X_y(X,y)\n",
    "np.random.shuffle(dataset_concatenated)\n",
    "X = dataset_concatenated[:,:-1]\n",
    "y = dataset_concatenated[:,-1]\n",
    "print(\"Data shape: \",X.shape)\n",
    "print(\"label shape: \",y.shape)"
   ]
  },
  {
   "cell_type": "code",
   "execution_count": 43,
   "metadata": {},
   "outputs": [],
   "source": [
    "def get_k_folded_datasets(X,Y,K_Fold = 5):\n",
    "    lenght = len(y)\n",
    "    Fold = 1.0/K_Fold\n",
    "    X_Test = X[:int(lenght*Fold),:]\n",
    "    X_Train = X[int(lenght*Fold):,:]\n",
    "    Y_train = Y[int(lenght*Fold):]\n",
    "    Y_test = Y[:int(lenght*Fold)]\n",
    "    return X_Train,X_Test,Y_train,Y_test\n",
    "X_train,X_test,y_train,y_test = get_k_folded_datasets(X,y)"
   ]
  },
  {
   "cell_type": "code",
   "execution_count": 44,
   "metadata": {},
   "outputs": [
    {
     "name": "stdout",
     "output_type": "stream",
     "text": [
      "shape train:  (1438, 64)\n",
      "shape train:  (359, 64)\n"
     ]
    }
   ],
   "source": [
    "print(\"shape train: \",X_train.shape)\n",
    "print(\"shape train: \",X_test.shape)"
   ]
  },
  {
   "cell_type": "markdown",
   "metadata": {},
   "source": [
    "## Normalization"
   ]
  },
  {
   "cell_type": "code",
   "execution_count": 45,
   "metadata": {},
   "outputs": [],
   "source": [
    "def normalize_dataset(X):\n",
    "    norm = StandardScaler()\n",
    "    X = norm.fit_transform(X)\n",
    "    normalize_data(X,norm)\n",
    "\n",
    "    return X,norm\n",
    "\n",
    "def normalize_data(X,Normalizer):\n",
    "    return Normalizer.transform(X)\n",
    "    \n",
    "    "
   ]
  },
  {
   "cell_type": "code",
   "execution_count": 46,
   "metadata": {},
   "outputs": [],
   "source": [
    "\n",
    "X_train,normalizer = normalize_dataset(X_train)\n",
    "\n",
    "X_test = normalize_data(X_test,normalizer)\n"
   ]
  },
  {
   "cell_type": "markdown",
   "metadata": {},
   "source": [
    "## One-hot Encoding"
   ]
  },
  {
   "cell_type": "code",
   "execution_count": 47,
   "metadata": {},
   "outputs": [],
   "source": [
    "def one_hot_encoding(Labels,Number_clases):\n",
    "    labels = np.zeros([len(Labels),Number_clases],dtype=np.int64)\n",
    "    for i,num in enumerate(Labels):\n",
    "        labels[i,int(num)] = 1\n",
    "    return labels\n",
    "Y_train = one_hot_encoding(y_train,10)\n",
    "Y_test = one_hot_encoding(y_test,10)"
   ]
  },
  {
   "cell_type": "markdown",
   "metadata": {},
   "source": [
    "### Get Confusion matrix from prediccion and ground truth "
   ]
  },
  {
   "cell_type": "code",
   "execution_count": 48,
   "metadata": {},
   "outputs": [],
   "source": [
    "def get_confusion_matrix(Y,Y_pred,Classes):\n",
    "    cm = np.zeros([Classes,Classes])\n",
    "    for i in range(len(Y)):\n",
    "        cm[Y[i],Y_pred[i]] += 1   \n",
    "    return cm\n",
    "def get_index(array):\n",
    "    return (np.where(array==1))[0][0]"
   ]
  },
  {
   "cell_type": "markdown",
   "metadata": {},
   "source": [
    "## Predict y evaluate"
   ]
  },
  {
   "cell_type": "code",
   "execution_count": 77,
   "metadata": {},
   "outputs": [
    {
     "name": "stdout",
     "output_type": "stream",
     "text": [
      ", 0.0014\n",
      ", 0.0057\n",
      ", 0.0014, 0.0012\n",
      ", 0.0057, 0.0047\n",
      ", 0.0014, 0.0012, 0.0009\n",
      ", 0.0057, 0.0047, 0.0038\n",
      ", 0.0014, 0.0012, 0.0009, 0.0008\n",
      ", 0.0057, 0.0047, 0.0038, 0.0031\n",
      ", 0.0014, 0.0012, 0.0009, 0.0008, 0.0006\n",
      ", 0.0057, 0.0047, 0.0038, 0.0031, 0.0026\n",
      ", 0.0014, 0.0012, 0.0009, 0.0008, 0.0006, 0.0005\n",
      ", 0.0057, 0.0047, 0.0038, 0.0031, 0.0026, 0.0022\n",
      ", 0.0014, 0.0012, 0.0009, 0.0008, 0.0006, 0.0005, 0.0005\n",
      ", 0.0057, 0.0047, 0.0038, 0.0031, 0.0026, 0.0022, 0.0019\n",
      ", 0.0014, 0.0012, 0.0009, 0.0008, 0.0006, 0.0005, 0.0005, 0.0004\n",
      ", 0.0057, 0.0047, 0.0038, 0.0031, 0.0026, 0.0022, 0.0019, 0.0016\n",
      ", 0.0014, 0.0012, 0.0009, 0.0008, 0.0006, 0.0005, 0.0005, 0.0004, 0.0003\n",
      ", 0.0057, 0.0047, 0.0038, 0.0031, 0.0026, 0.0022, 0.0019, 0.0016, 0.0014\n",
      ", 0.0014, 0.0012, 0.0009, 0.0008, 0.0006, 0.0005, 0.0005, 0.0004, 0.0003, 0.0003\n",
      ", 0.0057, 0.0047, 0.0038, 0.0031, 0.0026, 0.0022, 0.0019, 0.0016, 0.0014, 0.0013\n",
      ", 0.0014, 0.0012, 0.0009, 0.0008, 0.0006, 0.0005, 0.0005, 0.0004, 0.0003, 0.0003, 0.0003\n",
      ", 0.0057, 0.0047, 0.0038, 0.0031, 0.0026, 0.0022, 0.0019, 0.0016, 0.0014, 0.0013, 0.0012\n"
     ]
    }
   ],
   "source": [
    "def predict(X, parameters):\n",
    "    a2, cache = forward_prop(X, parameters)\n",
    "    yhat = a2\n",
    "    \n",
    "    yhat = np.argmax(yhat, axis=0)\n",
    "    return yhat\n",
    "\n",
    "def train_and_evaluate(X_train,X_test,Y_train,Y_test,number_of_iterations = 150,N_h = 4):\n",
    "    # Set the seed to make result reproducible\n",
    "    np.random.seed(333)\n",
    "\n",
    "    # Set the hyperparameters\n",
    "    n_x = X_train.shape[1]     #No. of neurons in first layer\n",
    "    n_h = N_h     #No. of neurons in hidden layer\n",
    "    n_y = 10     #No. of neurons in output layer\n",
    "\n",
    "    #The number of times the model has to learn the dataset\n",
    "    \n",
    "    learning_rate = 0.01\n",
    "    # define a model \n",
    "    trained_parameters, cost_train, cost_val = model(X_train.transpose(), Y_train.transpose(),\n",
    "                               X_test.transpose(),Y_test.transpose(),\n",
    "                               n_x, n_h, n_y, number_of_iterations, learning_rate)\n",
    "\n",
    "\n",
    "    y_predict = predict(X_test.transpose(), trained_parameters)\n",
    "    \n",
    "    cm = get_confusion_matrix(np.argmax(Y_test.transpose(),axis=0),\n",
    "                              y_predict,10)\n",
    "    return cm, cost_train, cost_val\n",
    "iterations = 1000\n",
    "conf_matrix, error_train, error_val = train_and_evaluate(X_train,X_test,Y_train,Y_test,iterations,N_h = 25)\n"
   ]
  },
  {
   "cell_type": "code",
   "execution_count": 79,
   "metadata": {},
   "outputs": [
    {
     "data": {
      "text/plain": [
       "<matplotlib.legend.Legend at 0x7f9dc742ea90>"
      ]
     },
     "execution_count": 79,
     "metadata": {},
     "output_type": "execute_result"
    },
    {
     "data": {
      "image/png": "[encoded data removed]",
      "text/plain": [
       "<Figure size 432x288 with 1 Axes>"
      ]
     },
     "metadata": {
      "needs_background": "light"
     },
     "output_type": "display_data"
    }
   ],
   "source": [
    "generations = np.linspace(0,iterations,(len(error_val)))\n",
    "# print(generations)\n",
    "# print(len(generations))\n",
    "# print(len(error_val))\n",
    "plt.plot(generations,error_val,label = \"val\")\n",
    "plt.plot(generations,error_train,label = \"train\")\n",
    "plt.legend()\n",
    "plt.xlabel(\"Iterations\")\n",
    "plt.ylabel(\"loss\")"
   ]
  },
  {
   "cell_type": "code",
   "execution_count": 80,
   "metadata": {},
   "outputs": [
    {
     "data": {
      "text/plain": [
       "<matplotlib.legend.Legend at 0x7f9dc752d760>"
      ]
     },
     "execution_count": 80,
     "metadata": {},
     "output_type": "execute_result"
    },
    {
     "data": {
      "image/png": "[encoded data removed]",
      "text/plain": [
       "<Figure size 432x288 with 1 Axes>"
      ]
     },
     "metadata": {
      "needs_background": "light"
     },
     "output_type": "display_data"
    }
   ],
   "source": [
    "conf_matrix, error_train, error_val = train_and_evaluate(X_train,X_test,Y_train,Y_test,iterations)\n",
    "generations = np.linspace(0,iterations,(len(error_val)))\n",
    "# print(generations)\n",
    "# print(len(generations))\n",
    "# print(len(error_val))\n",
    "plt.plot(generations,error_val,label = \"val\")\n",
    "plt.plot(generations,error_train,label = \"train\")\n",
    "plt.legend()"
   ]
  },
  {
   "cell_type": "code",
   "execution_count": 81,
   "metadata": {},
   "outputs": [
    {
     "data": {
      "text/plain": [
       "<matplotlib.legend.Legend at 0x7f9dc7575190>"
      ]
     },
     "execution_count": 81,
     "metadata": {},
     "output_type": "execute_result"
    },
    {
     "data": {
      "image/png": "[encoded data removed]",
      "text/plain": [
       "<Figure size 432x288 with 1 Axes>"
      ]
     },
     "metadata": {
      "needs_background": "light"
     },
     "output_type": "display_data"
    }
   ],
   "source": [
    "conf_matrix, error_train, error_val = train_and_evaluate(X_train,X_test,Y_train,Y_test,iterations,50)\n",
    "generations = np.linspace(0,iterations,(len(error_val)))\n",
    "# print(generations)\n",
    "# print(len(generations))\n",
    "# print(len(error_val))\n",
    "plt.plot(generations,error_val,label = \"val\")\n",
    "plt.plot(generations,error_train,label = \"train\")\n",
    "plt.legend()"
   ]
  }
 ],
 "metadata": {
  "kernelspec": {
   "display_name": "gpu_IA",
   "language": "python",
   "name": "gpu_ia"
  },
  "language_info": {
   "codemirror_mode": {
    "name": "ipython",
    "version": 3
   },
   "file_extension": ".py",
   "mimetype": "text/x-python",
   "name": "python",
   "nbconvert_exporter": "python",
   "pygments_lexer": "ipython3",
   "version": "3.8.5"
  }
 },
 "nbformat": 4,
 "nbformat_minor": 4
}
